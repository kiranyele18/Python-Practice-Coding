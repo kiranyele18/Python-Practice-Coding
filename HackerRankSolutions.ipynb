{
 "cells": [
  {
   "cell_type": "markdown",
   "metadata": {},
   "source": [
    " The included code stub will read an integer,n, from STDIN.\n",
    "\n",
    "Without using any string methods, try to print the following:\n",
    "123,....,n\n",
    "\n",
    "Note that \"...\" represents the consecutive values in between.\n",
    "\n",
    "#### Example :\n",
    "x = 5\n",
    "Print the string[12345].\n",
    "\n",
    "#### Input Format :\n",
    "\n",
    "The first line contains an integer n.\n",
    "\n",
    "#### Constraints :\n",
    " 1<= n <= 150\n",
    "\n",
    "#### Output Format :\n",
    "\n",
    "Print the list of integers from 1 through n as a string, without spaces.\n",
    "\n",
    "#### Sample Input: 0\n",
    "\n",
    "3\n",
    "\n",
    "#### Sample Output: 0\n",
    "\n",
    "123\n",
    "\n"
   ]
  },
  {
   "cell_type": "code",
   "execution_count": null,
   "metadata": {},
   "outputs": [],
   "source": [
    "if __name__ == '__main__':\n",
    "    n = int(input('Enter the Number : '))\n",
    "    for i in range(1,n+1):\n",
    "        print(i,end=\"\")\n",
    "        i = i+1\n",
    "        \n",
    "    "
   ]
  },
  {
   "cell_type": "markdown",
   "metadata": {},
   "source": [
    "# OR\n",
    "For Fast Execution\n",
    "\n"
   ]
  },
  {
   "cell_type": "code",
   "execution_count": null,
   "metadata": {},
   "outputs": [],
   "source": [
    "value=int(input())\n",
    "for number in range(value) :\n",
    "    print(number+1, end=\"\")"
   ]
  },
  {
   "cell_type": "markdown",
   "metadata": {},
   "source": [
    "The provided code stub will read in a dictionary containing key/value pairs of name:[marks] for a list of students. Print the average of the marks array for the student name provided, showing 2 places after the decimal.\n",
    "\n",
    "Example\n",
    "\n",
    "\n",
    "\n",
    "The query_name is 'beta'. beta's average score is\n",
    "\n",
    ".\n",
    "\n",
    "Input Format\n",
    "\n",
    "The first line contains the integer\n",
    ", the number of students' records. The next\n",
    "\n",
    "lines contain the names and marks obtained by a student, each value separated by a space. The final line contains query_name, the name of a student to query.\n",
    "\n",
    "Constraints\n",
    "\n",
    "Output Format\n",
    "\n",
    "Print one line: The average of the marks obtained by the particular student correct to 2 decimal places.\n",
    "\n",
    "Sample Input 0\n",
    "\n",
    "3\n",
    "Krishna 67 68 69\n",
    "Arjun 70 98 63\n",
    "Malika 52 56 60\n",
    "Malika\n",
    "\n",
    "Sample Output 0\n",
    "\n",
    "56.00\n",
    "\n",
    "Explanation 0\n",
    "\n",
    "Marks for Malika are\n",
    "whose average is\n",
    "\n",
    "Sample Input 1\n",
    "\n",
    "2\n",
    "Harsh 25 26.5 28\n",
    "Anurag 26 28 30\n",
    "Harsh\n",
    "\n",
    "Sample Output 1\n",
    "\n",
    "26.50\n",
    "\n"
   ]
  },
  {
   "cell_type": "code",
   "execution_count": null,
   "metadata": {},
   "outputs": [],
   "source": [
    "if __name__ == '__main__':\n",
    "    n = int(input())\n",
    "    student_marks = {}\n",
    "    for _ in range(n):\n",
    "        name, *line = input().split()\n",
    "        scores = list(map(float, line))\n",
    "        student_marks[name] = scores\n",
    "    query_name = input()\n",
    "    marks =0\n",
    "    for i in student_marks[query_name]:\n",
    "        marks = marks + i\n",
    "        avg = marks/3\n",
    "    print(\"%.2f\" %avg)\n",
    "    "
   ]
  },
  {
   "cell_type": "code",
   "execution_count": null,
   "metadata": {},
   "outputs": [],
   "source": [
    "if __name__ == '__main__':\n",
    "    n = int(input())\n",
    "    student_marks = {}\n",
    "    for _ in range(n):\n",
    "        name, *line = input().split()\n",
    "        scores = list(map(float, line))\n",
    "        student_marks[name] = scores\n",
    "    query_name = input()\n",
    "    marks =0\n",
    "    for i in student_marks[query_name]:\n",
    "        marks = marks + i\n",
    "        avg = marks/3\n",
    "    print(\"%.2f\" %avg)\n",
    "    "
   ]
  },
  {
   "cell_type": "markdown",
   "metadata": {},
   "source": [
    "You are given a string and your task is to swap cases. In other words, convert all lowercase letters to uppercase letters and vice versa.\n",
    "For Example:\n",
    "Www.HackerRank.com → wWW.hACKERrANK.COM\n",
    "Pythonist 2 → pYTHONIST 2\n",
    "Input Format:\n",
    "A single line containing a string S.\n",
    "Output Format:\n",
    "Print the modified string S.\n",
    "Sample Input:\n",
    "HackerRank.com presents \"Pythonist 2\".\n",
    "Sample Output:\n",
    "hACKERrANK.COM PRESENTS \"pYTHONIST 2\".\n",
    "\"\"\""
   ]
  },
  {
   "cell_type": "code",
   "execution_count": null,
   "metadata": {},
   "outputs": [],
   "source": [
    "def swap_case(s):\n",
    "    \n",
    "    return s.swapcase()\n",
    "if __name__ == '__main__':\n",
    "    s = input()\n",
    "    result = swap_case(s)\n",
    "    print(result)"
   ]
  },
  {
   "cell_type": "markdown",
   "metadata": {},
   "source": [
    "\n",
    "<b>Lists:</b>\n",
    "Consider a list (list = []).\n",
    "You can perform the following commands:\n",
    "1. insert i e: Insert integer  at position .\n",
    "2. print: Print the list.\n",
    "3. remove e: Delete the first occurrence of integer. \n",
    "4. append e: Insert integer  at the end of the list.\n",
    "5. sort: Sort the list.\n",
    "6. pop: Pop the last element from the list.\n",
    "7. reverse: Reverse the list.\n",
    "Initialize your list and read in the value of  followed by  lines of commands where each command willbe of the  types listed above. Iterate through each command in order and perform the correspondingoperation on your list.<br>\n",
    "<b>Input Format:</b><br>\n",
    "The first line contains an integer, , denoting the number of commands. Each line  of the  subsequent lines contains one of the commands described above.ConstraintsThe elements added to the list must be integers.<br>\n",
    "<b>Output Format:</b><br>\n",
    "For each command of type print, print the list on a new line.<br>\n",
    "<b>Sample Input 0:</b> <br>\n",
    "12<br>\n",
    "insert 0 5<br>\n",
    "insert 1 10<br>\n",
    "insert 0 6<br>\n",
    "print<br>\n",
    "remove 6<br>\n",
    "append 9<br>\n",
    "append 1<br>\n",
    "sort<br>\n",
    "print<br>\n",
    "pop<br>\n",
    "reverse<br>\n",
    "print<br>\n",
    "<b>Sample Output 0:</b><br>\n",
    "[6, 5, 10]<br>\n",
    "[1, 5, 9, 10]<br>\n",
    "[9, 5, 1]<br>\n"
   ]
  },
  {
   "cell_type": "markdown",
   "metadata": {},
   "source": [
    "T =int(input(\"Enter Number: \"))\n",
    "\n",
    "list = []\n",
    "\n",
    "for i in range(T):\n",
    "    args = input().split(\" \")\n",
    "    if args[0] == \"append\":\n",
    "        list.append(int(args[1]))\n",
    "    elif args[0] == \"insert\":\n",
    "        list.insert(int(args[1],args[2]))\n",
    "    elif args[0] == \"remove\":\n",
    "        list.remove(int(args[1]))\n",
    "    elif args[0] == \"sort\":\n",
    "        list.sort()\n",
    "    elif args[0] == \"pop\":\n",
    "        list.pop()\n",
    "    elif args[0] == \"reverse\":\n",
    "        list.reverse()\n",
    "    elif args[0] == \"print\":\n",
    "        print(list)"
   ]
  },
  {
   "cell_type": "markdown",
   "metadata": {},
   "source": [
    "# \n",
    "<b>Tuples:</b><br>\n",
    "    <b>Task </b><br>\n",
    "    Given an integer,n, and n space-separated integers as input, create a tuple ,t , of those  integers. Thencompute and print the result of .<br>\n",
    "    <b>Note:</b><br>\n",
    "        hash() is one of the functions in the __builtins__ module, so it need not be imported.<br>\n",
    "        <b>Input Format:</b><br>\n",
    "            The first line contains an integer,n , denoting the number of elements in the tuple. The second line contains n space-separated integers describing the elements in tuple t.<bR>\n",
    "            <b>Output Format: </b><br>\n",
    "                Print the result of hash(t).<br>\n",
    "                <b>Sample Input 0:</b><br>\n",
    "                    21 2<br>\n",
    "                    <b>Sample Output 0:</b><br>\n",
    "                        3713081631934410656\n",
    "\n"
   ]
  },
  {
   "cell_type": "code",
   "execution_count": 5,
   "metadata": {},
   "outputs": [
    {
     "name": "stdout",
     "output_type": "stream",
     "text": [
      "2\n",
      "1 2\n",
      "3713081631934410656\n"
     ]
    }
   ],
   "source": [
    "if __name__ == '__main__':\n",
    "    n = int(input())\n",
    "    integer_list = map(int, input().split())\n",
    "    print(hash(tuple(integer_list)))\n",
    "    "
   ]
  },
  {
   "cell_type": "code",
   "execution_count": null,
   "metadata": {},
   "outputs": [],
   "source": []
  }
 ],
 "metadata": {
  "kernelspec": {
   "display_name": "Python 3",
   "language": "python",
   "name": "python3"
  },
  "language_info": {
   "codemirror_mode": {
    "name": "ipython",
    "version": 3
   },
   "file_extension": ".py",
   "mimetype": "text/x-python",
   "name": "python",
   "nbconvert_exporter": "python",
   "pygments_lexer": "ipython3",
   "version": "3.7.4"
  }
 },
 "nbformat": 4,
 "nbformat_minor": 2
}
