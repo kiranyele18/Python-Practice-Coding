{
 "cells": [
  {
   "cell_type": "markdown",
   "metadata": {},
   "source": [
    "# LOOPS"
   ]
  },
  {
   "cell_type": "markdown",
   "metadata": {},
   "source": [
    "#### Task\n",
    "The provided code stub reads and integer, , from STDIN. For all non-negative integers i < n , print i^2.\n",
    "\n",
    "#### Example\n",
    "The list of non-negative integers that are less than n = 3 is [0,1,2]. Print the square of each number on a separate line.\n",
    "\n",
    "0\n",
    "1\n",
    "4\n",
    "#### Input Format\n",
    "\n",
    "The first and only line contains the integer,n.\n",
    "\n",
    "#### Constraints\n",
    "1 <= n <=20\n",
    "\n",
    "#### Output Format\n",
    "\n",
    "Print n lines, one corresponding to each i. \n"
   ]
  },
  {
   "cell_type": "code",
   "execution_count": 3,
   "metadata": {},
   "outputs": [
    {
     "name": "stdout",
     "output_type": "stream",
     "text": [
      "Enter Number: 5\n",
      "0\n",
      "1\n",
      "4\n",
      "9\n",
      "16\n"
     ]
    }
   ],
   "source": [
    "if __name__ == '__main__':\n",
    "    n = int(input(\"Enter Number: \"))\n",
    "    for i in range(n):\n",
    "        print(i*i)"
   ]
  },
  {
   "cell_type": "code",
   "execution_count": null,
   "metadata": {},
   "outputs": [],
   "source": [
    "\n"
   ]
  },
  {
   "cell_type": "code",
   "execution_count": null,
   "metadata": {},
   "outputs": [],
   "source": []
  }
 ],
 "metadata": {
  "kernelspec": {
   "display_name": "Python 3",
   "language": "python",
   "name": "python3"
  },
  "language_info": {
   "codemirror_mode": {
    "name": "ipython",
    "version": 3
   },
   "file_extension": ".py",
   "mimetype": "text/x-python",
   "name": "python",
   "nbconvert_exporter": "python",
   "pygments_lexer": "ipython3",
   "version": "3.7.4"
  }
 },
 "nbformat": 4,
 "nbformat_minor": 2
}
